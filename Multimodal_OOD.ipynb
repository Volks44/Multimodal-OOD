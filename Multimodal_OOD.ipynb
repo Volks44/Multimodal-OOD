{
  "nbformat": 4,
  "nbformat_minor": 0,
  "metadata": {
    "colab": {
      "provenance": [],
      "authorship_tag": "ABX9TyNQjOeZPbvDlsfQd51fmUUu",
      "include_colab_link": true
    },
    "kernelspec": {
      "name": "python3",
      "display_name": "Python 3"
    },
    "language_info": {
      "name": "python"
    }
  },
  "cells": [
    {
      "cell_type": "markdown",
      "metadata": {
        "id": "view-in-github",
        "colab_type": "text"
      },
      "source": [
        "<a href=\"https://colab.research.google.com/github/Volks44/Multimodal-OOD/blob/main/Multimodal_OOD.ipynb\" target=\"_parent\"><img src=\"https://colab.research.google.com/assets/colab-badge.svg\" alt=\"Open In Colab\"/></a>"
      ]
    },
    {
      "cell_type": "markdown",
      "source": [
        "# Libraries"
      ],
      "metadata": {
        "id": "f2yqnhThM-GW"
      }
    },
    {
      "cell_type": "code",
      "source": [
        "!pip install datasets --q\n",
        "import keras\n",
        "import numpy as np\n",
        "import tensorflow as tf\n",
        "from datasets import load_dataset\n",
        "from keras.datasets import cifar10\n",
        "from tensorflow.keras.layers import Input, Embedding, Dense, GlobalAveragePooling1D\n",
        "from tensorflow.keras.models import Model\n",
        "from tensorflow.keras.preprocessing.text import Tokenizer\n",
        "from tensorflow.keras.preprocessing.sequence import pad_sequences\n",
        "from collections import Counter\n",
        "from sklearn.metrics import classification_report, confusion_matrix, accuracy_score"
      ],
      "metadata": {
        "id": "0mDDpvjYfreA"
      },
      "execution_count": null,
      "outputs": []
    },
    {
      "cell_type": "markdown",
      "source": [
        "# Dataset"
      ],
      "metadata": {
        "id": "H94cEwZKNCpU"
      }
    },
    {
      "cell_type": "code",
      "source": [
        "# Define CIFAR-10 class names\n",
        "CIFAR10_CLASS_NAMES = ['airplane', 'automobile', 'bird', 'cat', 'deer',\n",
        "                       'dog', 'frog', 'horse', 'ship', 'truck']\n",
        "\n",
        "# Load the CIFAR-10 dataset\n",
        "(train_images, train_labels), (test_images, test_labels) = cifar10.load_data()"
      ],
      "metadata": {
        "id": "8tU88PrMgVSC"
      },
      "execution_count": null,
      "outputs": []
    },
    {
      "cell_type": "code",
      "source": [
        "# Normalize pixel values to be between 0 and 1\n",
        "train_images, test_images = train_images / 255.0, test_images / 255.0\n",
        "\n",
        "# Flatten the labels to be 1D arrays\n",
        "train_labels = train_labels.flatten()\n",
        "test_labels = test_labels.flatten()"
      ],
      "metadata": {
        "id": "q3ocNrmhgeLn"
      },
      "execution_count": null,
      "outputs": []
    },
    {
      "cell_type": "code",
      "source": [
        "print(f\"Train images shape: {train_images.shape}\")\n",
        "print(f\"Train labels shape: {train_labels.shape}\")\n",
        "print(f\"Test images shape: {test_images.shape}\")\n",
        "print(f\"Test labels shape: {test_labels.shape}\")\n",
        "print(f\"Number of classes: {len(CIFAR10_CLASS_NAMES)}\")"
      ],
      "metadata": {
        "colab": {
          "base_uri": "https://localhost:8080/"
        },
        "id": "mDyMHh_NgiAv",
        "outputId": "0f87c4bf-3de4-401e-de66-3184b79a336d"
      },
      "execution_count": null,
      "outputs": [
        {
          "output_type": "stream",
          "name": "stdout",
          "text": [
            "Train images shape: (50000, 32, 32, 3)\n",
            "Train labels shape: (50000,)\n",
            "Test images shape: (10000, 32, 32, 3)\n",
            "Test labels shape: (10000,)\n",
            "Number of classes: 10\n"
          ]
        }
      ]
    },
    {
      "cell_type": "markdown",
      "source": [
        "# Subsets"
      ],
      "metadata": {
        "id": "5HSwajl9NPLs"
      }
    },
    {
      "cell_type": "code",
      "source": [
        "# Define Class Subsets for hypothetical pre-trained classifiers\n",
        "# S_all = set(CIFAR10_CLASS_NAMES) # This is the set of all classes\n",
        "\n",
        "# Define known classes for each classifier\n",
        "# These are sets of class *names*\n",
        "classifier_knowledge = {\n",
        "    \"image_classifier_1\": {\"airplane\", \"automobile\", \"bird\", \"cat\"},\n",
        "    \"image_classifier_2\": {\"cat\", \"deer\", \"dog\", \"frog\", \"horse\"},\n",
        "    \"image_classifier_3\": {\"horse\", \"ship\", \"truck\", \"automobile\"}, # Overlap example\n",
        "    # For text classifiers, the \"text\" modality is the class name itself.\n",
        "    # So, their knowledge is also about class names.\n",
        "    \"text_classifier_1\": {\"airplane\", \"ship\", \"truck\", \"dog\", \"frog\"},\n",
        "    \"text_classifier_2\": {\"bird\", \"cat\", \"deer\", \"horse\", \"automobile\"},\n",
        "}\n",
        "\n",
        "print(\"Classifier Knowledge Subsets:\")\n",
        "for clf_name, known_classes in classifier_knowledge.items():\n",
        "    print(f\"  {clf_name}: {known_classes}\")"
      ],
      "metadata": {
        "id": "Q9leCz6Jgxef",
        "colab": {
          "base_uri": "https://localhost:8080/"
        },
        "outputId": "0a69b0e7-44f5-4179-e925-d33256847aa3"
      },
      "execution_count": null,
      "outputs": [
        {
          "output_type": "stream",
          "name": "stdout",
          "text": [
            "Classifier Knowledge Subsets:\n",
            "  image_classifier_1: {'airplane', 'automobile', 'cat', 'bird'}\n",
            "  image_classifier_2: {'cat', 'deer', 'frog', 'dog', 'horse'}\n",
            "  image_classifier_3: {'ship', 'truck', 'horse', 'automobile'}\n",
            "  text_classifier_1: {'ship', 'frog', 'airplane', 'truck', 'dog'}\n",
            "  text_classifier_2: {'cat', 'deer', 'bird', 'automobile', 'horse'}\n"
          ]
        }
      ]
    },
    {
      "cell_type": "code",
      "source": [
        "# Function to get \"text\" data (class labels as text)\n",
        "def get_text_label(numeric_label):\n",
        "    if 0 <= numeric_label < len(CIFAR10_CLASS_NAMES):\n",
        "        return CIFAR10_CLASS_NAMES[numeric_label]\n",
        "    return \"unknown_label\"\n",
        "\n",
        "# Example: Get text label for the first training sample\n",
        "print(f\"Example: First training image is a '{get_text_label(train_labels[1])}' (Label: {train_labels[0]})\")"
      ],
      "metadata": {
        "colab": {
          "base_uri": "https://localhost:8080/"
        },
        "id": "lqdKlPb6g80E",
        "outputId": "3d0f07dc-a446-460a-f651-a0b508da5029"
      },
      "execution_count": null,
      "outputs": [
        {
          "output_type": "stream",
          "name": "stdout",
          "text": [
            "Example: First training image is a 'truck' (Label: 6)\n"
          ]
        }
      ]
    },
    {
      "cell_type": "code",
      "source": [
        "# Demonstrate how to identify OOD samples for each classifier\n",
        "def check_ood_status(image_data, numeric_label, classifier_name, knowledge_base):\n",
        "    \"\"\"\n",
        "    Checks if a given sample is OOD for a specific classifier.\n",
        "    Args:\n",
        "        image_data: The image data (not directly used for OOD check in this example, as OOD is based on label for now, but would be used by actual model). numeric_label: The ground truth numeric label of the sample.\n",
        "        classifier_name: Name of the classifier (e.g., \"image_classifier_1\").\n",
        "        knowledge_base: A dictionary mapping classifier names to their known class sets.\n",
        "    Returns:\n",
        "        A tuple (is_ood: bool, ground_truth_class_name: str)\n",
        "    \"\"\"\n",
        "    ground_truth_class_name = get_text_label(numeric_label)\n",
        "    known_classes = knowledge_base.get(classifier_name)\n",
        "\n",
        "    if known_classes is None:\n",
        "        raise ValueError(f\"Knowledge base for '{classifier_name}' not found.\")\n",
        "\n",
        "    # For this simulation, OOD is determined if the true class name\n",
        "    # is not in the classifier's known set.\n",
        "    # An actual OOD detection mechanism for a real model would look at the\n",
        "    # model's output (e.g., softmax scores, logits, uncertainty).\n",
        "    is_ood = ground_truth_class_name not in known_classes\n",
        "    return is_ood, ground_truth_class_name\n",
        "\n",
        "# --- Main Demonstration Loop ---\n",
        "print(\"OOD Status Check for a few test samples:\")\n",
        "num_samples_to_check = 5\n",
        "\n",
        "for i in range(num_samples_to_check):\n",
        "    sample_image = test_images[i]\n",
        "    sample_numeric_label = test_labels[i]\n",
        "    sample_text_label = get_text_label(sample_numeric_label)\n",
        "\n",
        "    print(f\"\\nTest Sample #{i+1}: True Class = '{sample_text_label}' (Label: {sample_numeric_label})\")\n",
        "\n",
        "    # Check OOD status for each defined classifier\n",
        "    for clf_name in classifier_knowledge.keys():\n",
        "        # In your actual task, you would feed `sample_image` to image classifiers\n",
        "        # and `sample_text_label` (or its embedding) to text classifiers.\n",
        "        # The OOD determination here is based on the ground truth label for simplicity.\n",
        "        is_ood, _ = check_ood_status(sample_image, sample_numeric_label, clf_name, classifier_knowledge)\n",
        "\n",
        "        if is_ood:\n",
        "            print(f\"  - For '{clf_name}': This sample is OOD.\")\n",
        "        else:\n",
        "            print(f\"  - For '{clf_name}': This sample is In-Distribution.\")"
      ],
      "metadata": {
        "colab": {
          "base_uri": "https://localhost:8080/"
        },
        "id": "aPJVL7jCfoID",
        "outputId": "49cc584f-4aa6-42f3-e6d6-87ae3d705461"
      },
      "execution_count": null,
      "outputs": [
        {
          "output_type": "stream",
          "name": "stdout",
          "text": [
            "OOD Status Check for a few test samples:\n",
            "\n",
            "Test Sample #1: True Class = 'cat' (Label: 3)\n",
            "  - For 'image_classifier_1': This sample is In-Distribution.\n",
            "  - For 'image_classifier_2': This sample is In-Distribution.\n",
            "  - For 'image_classifier_3': This sample is OOD.\n",
            "  - For 'text_classifier_1': This sample is OOD.\n",
            "  - For 'text_classifier_2': This sample is In-Distribution.\n",
            "\n",
            "Test Sample #2: True Class = 'ship' (Label: 8)\n",
            "  - For 'image_classifier_1': This sample is OOD.\n",
            "  - For 'image_classifier_2': This sample is OOD.\n",
            "  - For 'image_classifier_3': This sample is In-Distribution.\n",
            "  - For 'text_classifier_1': This sample is In-Distribution.\n",
            "  - For 'text_classifier_2': This sample is OOD.\n",
            "\n",
            "Test Sample #3: True Class = 'ship' (Label: 8)\n",
            "  - For 'image_classifier_1': This sample is OOD.\n",
            "  - For 'image_classifier_2': This sample is OOD.\n",
            "  - For 'image_classifier_3': This sample is In-Distribution.\n",
            "  - For 'text_classifier_1': This sample is In-Distribution.\n",
            "  - For 'text_classifier_2': This sample is OOD.\n",
            "\n",
            "Test Sample #4: True Class = 'airplane' (Label: 0)\n",
            "  - For 'image_classifier_1': This sample is In-Distribution.\n",
            "  - For 'image_classifier_2': This sample is OOD.\n",
            "  - For 'image_classifier_3': This sample is OOD.\n",
            "  - For 'text_classifier_1': This sample is In-Distribution.\n",
            "  - For 'text_classifier_2': This sample is OOD.\n",
            "\n",
            "Test Sample #5: True Class = 'frog' (Label: 6)\n",
            "  - For 'image_classifier_1': This sample is OOD.\n",
            "  - For 'image_classifier_2': This sample is In-Distribution.\n",
            "  - For 'image_classifier_3': This sample is OOD.\n",
            "  - For 'text_classifier_1': This sample is In-Distribution.\n",
            "  - For 'text_classifier_2': This sample is OOD.\n"
          ]
        }
      ]
    },
    {
      "cell_type": "code",
      "source": [
        "def filter_data_by_known_classes(images, labels, known_classes, class_names):\n",
        "    \"\"\"\n",
        "    Filters a dataset to only include samples with labels in `known_classes`.\n",
        "\n",
        "    Args:\n",
        "        images (np.ndarray): Image data.\n",
        "        labels (np.ndarray): Integer labels.\n",
        "        known_classes (set): Set of class names known to the classifier.\n",
        "        class_names (list): List of all class names in order of label index.\n",
        "\n",
        "    Returns:\n",
        "        Tuple: (filtered_images, filtered_labels, new_label_mapping)\n",
        "    \"\"\"\n",
        "    # Find numeric labels corresponding to known class names\n",
        "    known_class_indices = [i for i, name in enumerate(class_names) if name in known_classes]\n",
        "\n",
        "    # Create a label mapping (e.g., 2 -> 0, 3 -> 1)\n",
        "    label_map = {old: new for new, old in enumerate(sorted(known_class_indices))}\n",
        "\n",
        "    # Mask and remap labels\n",
        "    mask = np.isin(labels, known_class_indices)\n",
        "    filtered_images = images[mask]\n",
        "    filtered_labels = np.array([label_map[lbl] for lbl in labels[mask]])\n",
        "\n",
        "    return filtered_images, filtered_labels, label_map"
      ],
      "metadata": {
        "id": "iV6E91mgvE80"
      },
      "execution_count": null,
      "outputs": []
    },
    {
      "cell_type": "code",
      "source": [
        "clf_name = \"image_classifier_1\"\n",
        "known_classes = classifier_knowledge[clf_name]\n",
        "\n",
        "filtered_train_images, filtered_train_labels, label_map = filter_data_by_known_classes(\n",
        "    train_images, train_labels, known_classes, CIFAR10_CLASS_NAMES\n",
        ")\n",
        "\n",
        "print(f\"Filtered {clf_name}: {filtered_train_images.shape[0]} training samples\")"
      ],
      "metadata": {
        "colab": {
          "base_uri": "https://localhost:8080/"
        },
        "id": "na7EWGRzvJuC",
        "outputId": "087d098f-7cc9-4f42-ebc3-b6b9a60f5851"
      },
      "execution_count": null,
      "outputs": [
        {
          "output_type": "stream",
          "name": "stdout",
          "text": [
            "Filtered image_classifier_1: 20000 training samples\n"
          ]
        }
      ]
    },
    {
      "cell_type": "code",
      "source": [
        "def build_cnn_model(num_classes):\n",
        "    model = tf.keras.Sequential([\n",
        "        tf.keras.layers.Conv2D(32, (3,3), activation='relu', input_shape=(32,32,3)),\n",
        "        tf.keras.layers.MaxPooling2D(2,2),\n",
        "        tf.keras.layers.Conv2D(64, (3,3), activation='relu'),\n",
        "        tf.keras.layers.MaxPooling2D(2,2),\n",
        "        tf.keras.layers.Flatten(),\n",
        "        tf.keras.layers.Dense(128, activation='relu'),\n",
        "        tf.keras.layers.Dense(num_classes, activation='softmax')\n",
        "    ])\n",
        "    model.compile(optimizer='adam',\n",
        "                  loss='sparse_categorical_crossentropy',\n",
        "                  metrics=['accuracy'])\n",
        "    return model"
      ],
      "metadata": {
        "id": "PRHXy7QOvNrI"
      },
      "execution_count": null,
      "outputs": []
    },
    {
      "cell_type": "code",
      "source": [
        "num_classes = len(label_map)\n",
        "\n",
        "model = build_cnn_model(num_classes)\n",
        "\n",
        "# Train on filtered subset\n",
        "model.fit(filtered_train_images, filtered_train_labels, epochs=5, batch_size=64, validation_split=0.1)"
      ],
      "metadata": {
        "colab": {
          "base_uri": "https://localhost:8080/"
        },
        "id": "uPseS2KUvQpq",
        "outputId": "969e7766-4f16-42d9-ac39-aaa252280525"
      },
      "execution_count": null,
      "outputs": [
        {
          "output_type": "stream",
          "name": "stderr",
          "text": [
            "/usr/local/lib/python3.11/dist-packages/keras/src/layers/convolutional/base_conv.py:107: UserWarning: Do not pass an `input_shape`/`input_dim` argument to a layer. When using Sequential models, prefer using an `Input(shape)` object as the first layer in the model instead.\n",
            "  super().__init__(activity_regularizer=activity_regularizer, **kwargs)\n"
          ]
        },
        {
          "output_type": "stream",
          "name": "stdout",
          "text": [
            "Epoch 1/5\n",
            "\u001b[1m282/282\u001b[0m \u001b[32m━━━━━━━━━━━━━━━━━━━━\u001b[0m\u001b[37m\u001b[0m \u001b[1m25s\u001b[0m 83ms/step - accuracy: 0.5661 - loss: 1.0032 - val_accuracy: 0.7200 - val_loss: 0.7075\n",
            "Epoch 2/5\n",
            "\u001b[1m282/282\u001b[0m \u001b[32m━━━━━━━━━━━━━━━━━━━━\u001b[0m\u001b[37m\u001b[0m \u001b[1m31s\u001b[0m 49ms/step - accuracy: 0.7440 - loss: 0.6484 - val_accuracy: 0.7665 - val_loss: 0.5979\n",
            "Epoch 3/5\n",
            "\u001b[1m282/282\u001b[0m \u001b[32m━━━━━━━━━━━━━━━━━━━━\u001b[0m\u001b[37m\u001b[0m \u001b[1m20s\u001b[0m 47ms/step - accuracy: 0.7759 - loss: 0.5653 - val_accuracy: 0.7525 - val_loss: 0.6506\n",
            "Epoch 4/5\n",
            "\u001b[1m282/282\u001b[0m \u001b[32m━━━━━━━━━━━━━━━━━━━━\u001b[0m\u001b[37m\u001b[0m \u001b[1m20s\u001b[0m 47ms/step - accuracy: 0.8003 - loss: 0.5048 - val_accuracy: 0.8085 - val_loss: 0.5084\n",
            "Epoch 5/5\n",
            "\u001b[1m282/282\u001b[0m \u001b[32m━━━━━━━━━━━━━━━━━━━━\u001b[0m\u001b[37m\u001b[0m \u001b[1m21s\u001b[0m 50ms/step - accuracy: 0.8198 - loss: 0.4666 - val_accuracy: 0.8275 - val_loss: 0.4822\n"
          ]
        },
        {
          "output_type": "execute_result",
          "data": {
            "text/plain": [
              "<keras.src.callbacks.history.History at 0x7cea16ff1bd0>"
            ]
          },
          "metadata": {},
          "execution_count": 129
        }
      ]
    },
    {
      "cell_type": "code",
      "source": [
        "def predict_with_ood_check(model, image, known_classes, label_map_inv, threshold=0.7):\n",
        "    \"\"\"\n",
        "    Predicts the class and checks for OOD based on softmax max score.\n",
        "\n",
        "    Args:\n",
        "        model: Trained Keras model.\n",
        "        image: Input image (normalized).\n",
        "        known_classes: Set of known class names.\n",
        "        label_map_inv: Reverse label map {new: old}.\n",
        "        threshold: Softmax max threshold for OOD.\n",
        "\n",
        "    Returns:\n",
        "        Tuple: (is_ood: bool, predicted_class: str)\n",
        "    \"\"\"\n",
        "    logits = model(np.expand_dims(image, axis=0), training=False)\n",
        "    probs = tf.nn.softmax(logits).numpy()[0]\n",
        "    max_prob = np.max(probs)\n",
        "    pred_index = np.argmax(probs)\n",
        "    orig_label = label_map_inv[pred_index]\n",
        "    class_name = CIFAR10_CLASS_NAMES[orig_label]\n",
        "    return max_prob < threshold, class_name"
      ],
      "metadata": {
        "id": "kIcgMNfRvYOv"
      },
      "execution_count": null,
      "outputs": []
    },
    {
      "cell_type": "code",
      "source": [
        "def evaluate_model_with_ood(model, x_test, y_test, known_classes, label_map_inv, threshold=0.7):\n",
        "    y_pred = []\n",
        "    y_true = []\n",
        "    ood_count = 0\n",
        "    total = len(x_test)\n",
        "\n",
        "    for i in range(total):\n",
        "        image = x_test[i]\n",
        "        label = y_test[i]\n",
        "        class_name = CIFAR10_CLASS_NAMES[label]\n",
        "\n",
        "        is_ood, pred_class = predict_with_ood_check(model, image, known_classes, label_map_inv, threshold)\n",
        "\n",
        "        if is_ood:\n",
        "            y_pred.append(\"OOD\")\n",
        "            ood_count += 1\n",
        "        else:\n",
        "            y_pred.append(pred_class)\n",
        "\n",
        "        y_true.append(class_name if class_name in known_classes else \"OOD\")\n",
        "\n",
        "    # Classification report on ID vs OOD\n",
        "    print(\"Confusion Matrix:\")\n",
        "    print(confusion_matrix(y_true, y_pred, labels=list(known_classes) + [\"OOD\"]))\n",
        "\n",
        "    print(\"\\nClassification Report:\")\n",
        "    print(classification_report(y_true, y_pred, labels=list(known_classes) + [\"OOD\"]))\n",
        "\n",
        "    print(f\"\\nTotal samples: {total}\")\n",
        "    print(f\"OOD detections: {ood_count} / {total} ({100 * ood_count / total:.2f}%)\")\n",
        "\n",
        "    return #y_true, y_pred\n"
      ],
      "metadata": {
        "id": "f7QdxFZj0-3y"
      },
      "execution_count": null,
      "outputs": []
    },
    {
      "cell_type": "code",
      "source": [
        "##NEW\n",
        "\n",
        "# Select a classifier\n",
        "clf_name = 'image_classifier_1'\n",
        "clf_info = trained_image_classifiers[clf_name]\n",
        "\n",
        "# Run evaluation\n",
        "evaluate_model_with_ood(\n",
        "    model=clf_info[\"model\"],\n",
        "    x_test=filtered_train_images,\n",
        "    y_test=filtered_train_labels,\n",
        "    known_classes=clf_info[\"known_classes\"],\n",
        "    label_map_inv=clf_info[\"label_map_inv\"],\n",
        "    threshold=0.3\n",
        ")"
      ],
      "metadata": {
        "colab": {
          "base_uri": "https://localhost:8080/"
        },
        "id": "ex7SOxOu_sw1",
        "outputId": "34bc68fb-b3a3-4e88-f5ac-c0d3f4ca558c"
      },
      "execution_count": null,
      "outputs": [
        {
          "output_type": "stream",
          "name": "stdout",
          "text": [
            "Confusion Matrix:\n",
            "[[4196  260   36  393  115]\n",
            " [  90 4793   25   53   39]\n",
            " [ 154  159 3226 1209  252]\n",
            " [ 273   90  194 4356   87]\n",
            " [   0    0    0    0    0]]\n",
            "\n",
            "Classification Report:\n",
            "              precision    recall  f1-score   support\n",
            "\n",
            "    airplane       0.89      0.84      0.86      5000\n",
            "  automobile       0.90      0.96      0.93      5000\n",
            "         cat       0.93      0.65      0.76      5000\n",
            "        bird       0.72      0.87      0.79      5000\n",
            "         OOD       0.00      0.00      0.00         0\n",
            "\n",
            "    accuracy                           0.83     20000\n",
            "   macro avg       0.69      0.66      0.67     20000\n",
            "weighted avg       0.86      0.83      0.84     20000\n",
            "\n",
            "\n",
            "Total samples: 20000\n",
            "OOD detections: 493 / 20000 (2.46%)\n"
          ]
        },
        {
          "output_type": "stream",
          "name": "stderr",
          "text": [
            "/usr/local/lib/python3.11/dist-packages/sklearn/metrics/_classification.py:1565: UndefinedMetricWarning: Recall is ill-defined and being set to 0.0 in labels with no true samples. Use `zero_division` parameter to control this behavior.\n",
            "  _warn_prf(average, modifier, f\"{metric.capitalize()} is\", len(result))\n",
            "/usr/local/lib/python3.11/dist-packages/sklearn/metrics/_classification.py:1565: UndefinedMetricWarning: Recall is ill-defined and being set to 0.0 in labels with no true samples. Use `zero_division` parameter to control this behavior.\n",
            "  _warn_prf(average, modifier, f\"{metric.capitalize()} is\", len(result))\n",
            "/usr/local/lib/python3.11/dist-packages/sklearn/metrics/_classification.py:1565: UndefinedMetricWarning: Recall is ill-defined and being set to 0.0 in labels with no true samples. Use `zero_division` parameter to control this behavior.\n",
            "  _warn_prf(average, modifier, f\"{metric.capitalize()} is\", len(result))\n"
          ]
        }
      ]
    },
    {
      "cell_type": "code",
      "source": [
        "# trained_models = {}\n",
        "\n",
        "# for clf_name, known_classes in classifier_knowledge.items():\n",
        "#     print(f\"\\nTraining {clf_name}\")\n",
        "#     f_images, f_labels, label_map = filter_data_by_known_classes(\n",
        "#         train_images, train_labels, known_classes, CIFAR10_CLASS_NAMES\n",
        "#     )\n",
        "\n",
        "#     model = build_cnn_model(len(label_map))\n",
        "#     model.fit(f_images, f_labels, epochs=5, batch_size=64, verbose=0)\n",
        "\n",
        "#     trained_models[clf_name] = {\n",
        "#         \"model\": model,\n",
        "#         \"known_classes\": known_classes,\n",
        "#         \"label_map\": label_map,\n",
        "#         \"label_map_inv\": {v: k for k, v in label_map.items()}\n",
        "#     }"
      ],
      "metadata": {
        "id": "nyaQrmFDwHqt"
      },
      "execution_count": null,
      "outputs": []
    },
    {
      "cell_type": "code",
      "source": [
        "def train_classifier_on_subset(classifier_name, known_classes, images, labels):\n",
        "    # Filter images/labels\n",
        "    f_images, f_labels, label_map = filter_data_by_known_classes(images, labels, known_classes, CIFAR10_CLASS_NAMES)\n",
        "\n",
        "    model = build_cnn_model(num_classes=len(label_map))\n",
        "    model.fit(f_images, f_labels, epochs=5, batch_size=64, validation_split=0.1, verbose=0)\n",
        "\n",
        "    return {\n",
        "        \"model\": model,\n",
        "        \"known_classes\": known_classes,\n",
        "        \"label_map\": label_map,\n",
        "        \"label_map_inv\": {v: k for k, v in label_map.items()}\n",
        "    }\n"
      ],
      "metadata": {
        "id": "fZY_wi58x5R_"
      },
      "execution_count": null,
      "outputs": []
    },
    {
      "cell_type": "code",
      "source": [
        "trained_image_classifiers = {}\n",
        "\n",
        "for clf_name in [name for name in classifier_knowledge if \"image\" in name]:\n",
        "    info = train_classifier_on_subset(clf_name, classifier_knowledge[clf_name], train_images, train_labels)\n",
        "    trained_image_classifiers[clf_name] = info\n",
        "    print(f\"Trained {clf_name}\")\n"
      ],
      "metadata": {
        "colab": {
          "base_uri": "https://localhost:8080/"
        },
        "id": "UKuJc1YxzYXF",
        "outputId": "949686d5-c6ac-4467-d2df-81e341f00310"
      },
      "execution_count": null,
      "outputs": [
        {
          "output_type": "stream",
          "name": "stderr",
          "text": [
            "/usr/local/lib/python3.11/dist-packages/keras/src/layers/convolutional/base_conv.py:107: UserWarning: Do not pass an `input_shape`/`input_dim` argument to a layer. When using Sequential models, prefer using an `Input(shape)` object as the first layer in the model instead.\n",
            "  super().__init__(activity_regularizer=activity_regularizer, **kwargs)\n"
          ]
        },
        {
          "output_type": "stream",
          "name": "stdout",
          "text": [
            "Trained image_classifier_1\n",
            "Trained image_classifier_2\n",
            "Trained image_classifier_3\n"
          ]
        }
      ]
    },
    {
      "cell_type": "code",
      "source": [
        "def softmax_ood_predict(sample_image, clf_info, threshold=0.7):\n",
        "    model = clf_info[\"model\"]\n",
        "    label_map_inv = clf_info[\"label_map_inv\"]\n",
        "\n",
        "    logits = model(np.expand_dims(sample_image, axis=0), training=False)\n",
        "    probs = tf.nn.softmax(logits).numpy()[0]\n",
        "    max_prob = np.max(probs)\n",
        "    pred_index = np.argmax(probs)\n",
        "\n",
        "    orig_label_index = label_map_inv[pred_index]\n",
        "    pred_class_name = CIFAR10_CLASS_NAMES[orig_label_index]\n",
        "\n",
        "    is_ood = max_prob < threshold\n",
        "    return is_ood, pred_class_name, max_prob"
      ],
      "metadata": {
        "id": "jug8ruZ2zaoP"
      },
      "execution_count": null,
      "outputs": []
    },
    {
      "cell_type": "code",
      "source": [
        "sample_image = test_images[3]\n",
        "true_label = test_labels[3]\n",
        "true_class = CIFAR10_CLASS_NAMES[true_label]\n",
        "\n",
        "print(f\"Test sample true class: {true_class}\")\n",
        "\n",
        "for clf_name, clf_info in trained_image_classifiers.items():\n",
        "    is_ood, pred_class, conf = softmax_ood_predict(sample_image, clf_info)\n",
        "    status = \"OOD\" if is_ood else \"In-Distribution\"\n",
        "    print(f\"{clf_name}: {status} | Predicted: {pred_class} | Confidence: {conf:.2f}\")\n"
      ],
      "metadata": {
        "colab": {
          "base_uri": "https://localhost:8080/"
        },
        "id": "ED0mU-k0zdfO",
        "outputId": "9443a802-1a24-498c-fcfa-1f2f4ee2740a"
      },
      "execution_count": null,
      "outputs": [
        {
          "output_type": "stream",
          "name": "stdout",
          "text": [
            "Test sample true class: airplane\n",
            "image_classifier_1: OOD | Predicted: airplane | Confidence: 0.47\n",
            "image_classifier_2: OOD | Predicted: deer | Confidence: 0.35\n",
            "image_classifier_3: OOD | Predicted: ship | Confidence: 0.44\n"
          ]
        }
      ]
    },
    {
      "cell_type": "code",
      "source": [
        "def aggregate_predictions(sample_image, classifiers, threshold=0.3):\n",
        "    votes = []\n",
        "    for clf_info in classifiers.values():\n",
        "        is_ood, pred_class, _ = softmax_ood_predict(sample_image, clf_info, threshold)\n",
        "        if not is_ood:\n",
        "            votes.append(pred_class)\n",
        "\n",
        "    if votes:\n",
        "        majority = Counter(votes).most_common(1)[0][0]\n",
        "    else:\n",
        "        majority = \"OOD_ALL\"\n",
        "\n",
        "    return majority, votes"
      ],
      "metadata": {
        "id": "Ns0aze9D1Und"
      },
      "execution_count": null,
      "outputs": []
    },
    {
      "cell_type": "code",
      "source": [
        "agg_pred, all_votes = aggregate_predictions(test_images[0], trained_image_classifiers)\n",
        "print(f\"Aggregated prediction: {agg_pred}\")\n",
        "print(f\"Individual votes: {all_votes}\")\n"
      ],
      "metadata": {
        "colab": {
          "base_uri": "https://localhost:8080/"
        },
        "id": "3w0_VivD1XFR",
        "outputId": "8f7ee090-5500-4e86-a1d8-79b10b065b1b"
      },
      "execution_count": null,
      "outputs": [
        {
          "output_type": "stream",
          "name": "stdout",
          "text": [
            "Aggregated prediction: cat\n",
            "Individual votes: ['cat', 'ship']\n"
          ]
        }
      ]
    },
    {
      "cell_type": "code",
      "source": [
        "def prepare_text_data(labels, known_classes, class_names):\n",
        "    text_labels = [class_names[label] for label in labels]\n",
        "    filtered_texts, filtered_indices = [], []\n",
        "\n",
        "    for i, txt in enumerate(text_labels):\n",
        "        if txt in known_classes:\n",
        "            filtered_texts.append(txt)\n",
        "            filtered_indices.append(i)\n",
        "\n",
        "    return np.array(filtered_texts), np.array(filtered_indices)\n"
      ],
      "metadata": {
        "id": "rbaJ0wJq1g4L"
      },
      "execution_count": null,
      "outputs": []
    },
    {
      "cell_type": "code",
      "source": [
        "def build_text_classifier(num_classes, vocab_size, embed_dim=50, max_len=1):\n",
        "    inp = Input(shape=(max_len,))\n",
        "    x = Embedding(input_dim=vocab_size, output_dim=embed_dim)(inp)\n",
        "    x = GlobalAveragePooling1D()(x)\n",
        "    x = Dense(64, activation='relu')(x)\n",
        "    out = Dense(num_classes)(x)\n",
        "    return Model(inp, out)"
      ],
      "metadata": {
        "id": "zw622Ou01i08"
      },
      "execution_count": null,
      "outputs": []
    },
    {
      "cell_type": "code",
      "source": [
        "trained_text_classifiers = {}\n",
        "tokenizer = Tokenizer()\n",
        "tokenizer.fit_on_texts(CIFAR10_CLASS_NAMES)  # global vocab\n",
        "\n",
        "max_len = 1  # only single-word class names\n",
        "\n",
        "for clf_name in [name for name in classifier_knowledge if \"text\" in name]:\n",
        "    known_classes = classifier_knowledge[clf_name]\n",
        "    text_data, indices = prepare_text_data(train_labels, known_classes, CIFAR10_CLASS_NAMES)\n",
        "\n",
        "    labels_subset = train_labels[indices]\n",
        "    text_sequences = tokenizer.texts_to_sequences(text_data)\n",
        "    text_padded = pad_sequences(text_sequences, maxlen=max_len)\n",
        "\n",
        "    label_map = {cls: i for i, cls in enumerate(sorted(known_classes))}\n",
        "    y = np.array([label_map[CIFAR10_CLASS_NAMES[l]] for l in labels_subset])\n",
        "\n",
        "    model = build_text_classifier(len(label_map), vocab_size=len(tokenizer.word_index) + 1)\n",
        "    model.compile(optimizer='adam', loss=tf.keras.losses.SparseCategoricalCrossentropy(from_logits=True), metrics=['accuracy'])\n",
        "    model.fit(text_padded, y, epochs=5, batch_size=64, verbose=0)\n",
        "\n",
        "    trained_text_classifiers[clf_name] = {\n",
        "        \"model\": model,\n",
        "        \"known_classes\": known_classes,\n",
        "        \"label_map\": label_map,\n",
        "        \"label_map_inv\": {v: k for k, v in label_map.items()}\n",
        "    }\n",
        "\n",
        "    print(f\"Trained {clf_name}\")"
      ],
      "metadata": {
        "colab": {
          "base_uri": "https://localhost:8080/"
        },
        "id": "C7ChSgit1lF7",
        "outputId": "7e08d8e6-36d2-45dc-8710-1e1ed3fa7ebc"
      },
      "execution_count": null,
      "outputs": [
        {
          "output_type": "stream",
          "name": "stdout",
          "text": [
            "Trained text_classifier_1\n",
            "Trained text_classifier_2\n"
          ]
        }
      ]
    },
    {
      "cell_type": "code",
      "source": [
        "def softmax_ood_text_predict(text_input, clf_info, threshold=0.7):\n",
        "    model = clf_info[\"model\"]\n",
        "    label_map_inv = clf_info[\"label_map_inv\"]\n",
        "\n",
        "    seq = tokenizer.texts_to_sequences([text_input])\n",
        "    padded = pad_sequences(seq, maxlen=1)\n",
        "\n",
        "    logits = model(padded, training=False)\n",
        "    probs = tf.nn.softmax(logits).numpy()[0]\n",
        "    max_prob = np.max(probs)\n",
        "    pred_index = np.argmax(probs)\n",
        "    pred_class = clf_info[\"label_map_inv\"][pred_index]\n",
        "\n",
        "    is_ood = max_prob < threshold\n",
        "    return is_ood, pred_class, max_prob"
      ],
      "metadata": {
        "id": "YyPiv1fb1vet"
      },
      "execution_count": null,
      "outputs": []
    },
    {
      "cell_type": "code",
      "source": [
        "sample_label = test_labels[3]\n",
        "true_class = CIFAR10_CLASS_NAMES[sample_label]\n",
        "sample_text = true_class  # input is class name as string\n",
        "\n",
        "print(f\"Test sample true class (as text): {sample_text}\")\n",
        "\n",
        "for clf_name, clf_info in trained_text_classifiers.items():\n",
        "    is_ood, pred_class, conf = softmax_ood_text_predict(sample_text, clf_info, threshold=0.7)\n",
        "    status = \"OOD\" if is_ood else \"In-Distribution\"\n",
        "    print(f\"{clf_name}: {status} | Predicted: {pred_class} | Confidence: {conf:.2f}\")"
      ],
      "metadata": {
        "colab": {
          "base_uri": "https://localhost:8080/"
        },
        "id": "XPFo8oYk71jY",
        "outputId": "a68c2ac2-8799-4db6-ae8b-202e8a144801"
      },
      "execution_count": null,
      "outputs": [
        {
          "output_type": "stream",
          "name": "stdout",
          "text": [
            "Test sample true class (as text): airplane\n",
            "text_classifier_1: In-Distribution | Predicted: airplane | Confidence: 1.00\n",
            "text_classifier_2: OOD | Predicted: cat | Confidence: 0.22\n"
          ]
        }
      ]
    },
    {
      "cell_type": "code",
      "source": [
        "def aggregate_text_predictions(text_input, classifiers, threshold=0.1):\n",
        "    from collections import Counter\n",
        "\n",
        "    votes = []\n",
        "    for clf_info in classifiers.values():\n",
        "        is_ood, pred_class, _ = softmax_ood_text_predict(text_input, clf_info, threshold)\n",
        "        if not is_ood:\n",
        "            votes.append(pred_class)\n",
        "\n",
        "    if votes:\n",
        "        majority = Counter(votes).most_common(1)[0][0]\n",
        "    else:\n",
        "        majority = \"OOD_ALL\"\n",
        "\n",
        "    return majority, votes\n"
      ],
      "metadata": {
        "id": "7ft6nRKDBtlD"
      },
      "execution_count": null,
      "outputs": []
    },
    {
      "cell_type": "code",
      "source": [
        "sample_label = test_labels[0]\n",
        "sample_text = CIFAR10_CLASS_NAMES[sample_label]\n",
        "\n",
        "agg_pred, all_votes = aggregate_text_predictions(sample_text, trained_text_classifiers)\n",
        "print(f\"Aggregated prediction: {agg_pred}\")\n",
        "print(f\"Individual votes: {all_votes}\")"
      ],
      "metadata": {
        "colab": {
          "base_uri": "https://localhost:8080/"
        },
        "id": "H09QkjRhBvh2",
        "outputId": "b11dce29-338d-4a4a-ba29-5935a740f92e"
      },
      "execution_count": null,
      "outputs": [
        {
          "output_type": "stream",
          "name": "stdout",
          "text": [
            "Aggregated prediction: frog\n",
            "Individual votes: ['frog', 'cat']\n"
          ]
        }
      ]
    },
    {
      "cell_type": "code",
      "source": [
        "def aggregate_multimodal_predictions(sample_image, sample_label, img_clfs, txt_clfs, threshold=0.1):\n",
        "    votes = []\n",
        "    text_label = get_text_label(sample_label)\n",
        "\n",
        "    for clf_info in img_clfs.values():\n",
        "        is_ood, pred_class, _ = softmax_ood_predict(sample_image, clf_info, threshold)\n",
        "        if not is_ood:\n",
        "            votes.append(pred_class)\n",
        "\n",
        "    for clf_info in txt_clfs.values():\n",
        "        is_ood, pred_class, _ = softmax_ood_text_predict(text_label, clf_info, threshold)\n",
        "        if not is_ood:\n",
        "            votes.append(pred_class)\n",
        "\n",
        "    if votes:\n",
        "        final_pred = Counter(votes).most_common(1)[0][0]\n",
        "    else:\n",
        "        final_pred = \"OOD_ALL\"\n",
        "\n",
        "    return final_pred, votes"
      ],
      "metadata": {
        "id": "3hQTqC6d1ysU"
      },
      "execution_count": null,
      "outputs": []
    },
    {
      "cell_type": "code",
      "source": [
        "idx = 0\n",
        "sample_img = test_images[idx]\n",
        "sample_label = test_labels[idx]\n",
        "true_class = CIFAR10_CLASS_NAMES[sample_label]\n",
        "\n",
        "final_pred, votes = aggregate_multimodal_predictions(\n",
        "    sample_img, sample_label,\n",
        "    trained_image_classifiers,\n",
        "    trained_text_classifiers\n",
        ")\n",
        "\n",
        "print(f\"Sample true class: {true_class}\")\n",
        "print(f\"Votes: {votes}\")\n",
        "print(f\"Final prediction: {final_pred}\")\n"
      ],
      "metadata": {
        "colab": {
          "base_uri": "https://localhost:8080/"
        },
        "id": "UcndSXQm102I",
        "outputId": "fb22f497-d06b-48d8-9250-96ffff7c302a"
      },
      "execution_count": null,
      "outputs": [
        {
          "output_type": "stream",
          "name": "stdout",
          "text": [
            "Sample true class: cat\n",
            "Votes: ['cat', 'cat', 'ship', 'frog', 'cat']\n",
            "Final prediction: cat\n"
          ]
        }
      ]
    },
    {
      "cell_type": "code",
      "source": [
        "def evaluate_multimodal_system(\n",
        "    test_images,\n",
        "    test_labels,\n",
        "    img_clfs,\n",
        "    txt_clfs,\n",
        "    threshold=0.3,\n",
        "    max_samples=None\n",
        "):\n",
        "    preds = []\n",
        "    true = []\n",
        "    ood_count = 0\n",
        "    all_class_names = CIFAR10_CLASS_NAMES\n",
        "\n",
        "    N = max_samples if max_samples else len(test_labels)\n",
        "\n",
        "    for i in range(N):\n",
        "        img = test_images[i]\n",
        "        label = test_labels[i]\n",
        "        true_class = CIFAR10_CLASS_NAMES[label]\n",
        "\n",
        "        final_pred, _ = aggregate_multimodal_predictions(img, label, img_clfs, txt_clfs, threshold)\n",
        "\n",
        "        if final_pred in [\"OOD_ALL\", \"OOD_MAJORITY\"]:\n",
        "            ood_count += 1\n",
        "        else:\n",
        "            preds.append(final_pred)\n",
        "            true.append(true_class)\n",
        "\n",
        "    acc = accuracy_score(true, preds)\n",
        "    print(f\"\\n Evaluation on {N} test samples:\")\n",
        "    print(f\" In-distribution Accuracy: {acc * 100:.2f}%\")\n",
        "\n",
        "    print(\"\\n Classification Report (for in-distribution predictions):\")\n",
        "    print(classification_report(true, preds, labels=all_class_names, zero_division=0))\n",
        "\n",
        "    return\n"
      ],
      "metadata": {
        "id": "UoWzt7nW50zf"
      },
      "execution_count": null,
      "outputs": []
    },
    {
      "cell_type": "code",
      "source": [
        "evaluate_multimodal_system(\n",
        "    test_images=test_images,\n",
        "    test_labels=test_labels,\n",
        "    img_clfs=trained_image_classifiers,\n",
        "    txt_clfs=trained_text_classifiers,\n",
        "    threshold=0.1,\n",
        "    max_samples=1000 # or simply max_samples=100\n",
        ")\n",
        "\n"
      ],
      "metadata": {
        "colab": {
          "base_uri": "https://localhost:8080/"
        },
        "id": "uxObCXJP543e",
        "outputId": "d447e6de-6d79-4fc0-b6c5-8396ed1860fb"
      },
      "execution_count": null,
      "outputs": [
        {
          "output_type": "stream",
          "name": "stdout",
          "text": [
            "\n",
            " Evaluation on 1000 test samples:\n",
            " In-distribution Accuracy: 75.10%\n",
            "\n",
            " Classification Report (for in-distribution predictions):\n",
            "              precision    recall  f1-score   support\n",
            "\n",
            "    airplane       0.65      0.87      0.75       103\n",
            "  automobile       0.71      0.87      0.78        89\n",
            "        bird       0.51      0.73      0.60       100\n",
            "         cat       0.59      0.81      0.68       103\n",
            "        deer       0.87      0.46      0.60        90\n",
            "         dog       1.00      0.47      0.63        86\n",
            "        frog       0.96      0.83      0.89       112\n",
            "       horse       0.73      0.89      0.80       102\n",
            "        ship       1.00      0.86      0.92       106\n",
            "       truck       1.00      0.66      0.80       109\n",
            "\n",
            "    accuracy                           0.75      1000\n",
            "   macro avg       0.80      0.74      0.75      1000\n",
            "weighted avg       0.80      0.75      0.75      1000\n",
            "\n"
          ]
        }
      ]
    }
  ]
}